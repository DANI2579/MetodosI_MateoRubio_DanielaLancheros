{
 "cells": [
  {
   "cell_type": "code",
   "execution_count": 28,
   "metadata": {},
   "outputs": [
    {
     "name": "stdout",
     "output_type": "stream",
     "text": [
      "Las seis raices son:\n"
     ]
    },
    {
     "data": {
      "text/plain": [
       "[-0.3674, -0.5612, 0.5612, 0.3674, 0.6, -0.6]"
      ]
     },
     "execution_count": 28,
     "metadata": {},
     "output_type": "execute_result"
    }
   ],
   "source": [
    "import numpy as np\n",
    "import sympy as sym\n",
    "\n",
    "x = sym.Symbol('x', real = True)\n",
    "y = sym.Symbol('y', real = True)\n",
    "\n",
    "c = 729/10000\n",
    "z = x + sym.I*y\n",
    "f = z**6 + c*z**2 - c \n",
    "\n",
    "F=[sym.re(f),sym.im(f)]\n",
    "J=sym.Matrix(F).jacobian([x, y])\n",
    "Fn=sym.lambdify([x,y],F, 'numpy')\n",
    "Jn=sym.lambdify([x,y],J, 'numpy')\n",
    "\n",
    "\n",
    "def Newton_method(z0,Fn,Jn,error=1e-7,itmax=1000):\n",
    "    parada=1\n",
    "    it=0\n",
    "    while parada > error and it < itmax:\n",
    "        u0=z0.copy()\n",
    "\n",
    "        invJ=np.linalg.inv(Jn(u0[0],u0[1]))\n",
    "        \n",
    "        F=Fn(u0[0],u0[1])\n",
    "        \n",
    "        z0=u0-np.dot(invJ,F)\n",
    "\n",
    "\n",
    "        parada=np.max(np.abs(z0-u0))\n",
    "        \n",
    "        it+=1\n",
    "    return z0\n",
    "\n",
    "a = np.array([1,1])\n",
    "\n",
    "Newton_method(a,Fn,Jn)\n",
    "x = np.linspace(-1,1.5,100)\n",
    "y = np.linspace(-1,1.5,100)\n",
    "for i in range(100):\n",
    "    f = np.array([x[i],y[i]])\n",
    "    \n",
    "\n",
    "\n",
    "N=50\n",
    "x=np.linspace(-1,1,N)\n",
    "y=np.linspace(-1,1,N)\n",
    "def fractal(x,y,N):\n",
    "    result = []\n",
    "    for i in range(N):\n",
    "        for j in range(N):\n",
    "            root=np.round(Newton_method(np.array([x[i],y[j]]),Fn,Jn),4)            \n",
    "            if root[0] not in result and root[0] != 0:\n",
    "                result.append(root[0])\n",
    "            if root[1] not in result and root[1] != 0 :\n",
    "                result.append(root[1])\n",
    "    return result\n",
    "                \n",
    "print(\"Las seis raices son:\")                \n",
    "fractal(x,y,N)"
   ]
  },
  {
   "cell_type": "markdown",
   "metadata": {},
   "source": [
    "Por tanto el ángulo debe estar entre el intervalo 0 y pi/2 ademas que no puede ser un ángulo imaginario, por lo tanto el ángulo de equilibrio es 0.6rad"
   ]
  },
  {
   "cell_type": "code",
   "execution_count": 48,
   "metadata": {},
   "outputs": [
    {
     "name": "stdout",
     "output_type": "stream",
     "text": [
      "La solucion del sistema es el vector: \n",
      "[ 7.85971308  0.42292641 -0.07359224 -0.54064302  0.01062614]\n",
      "En 5 iteraciones\n",
      "[ 7.85971308  0.42292641 -0.07359224 -0.54064302  0.01062616]\n"
     ]
    }
   ],
   "source": [
    "matrix = np.array([[0.2,0.1,1,1,0],[0.1,4,-1,1,-1],[1,-1,60,0,-2],[1,1,0,8,4],[0,-1,-2,4,700]])\n",
    "b = np.array([1,2,3,4,5])\n",
    "seed = np.array([1.,1.,1.,1.,1.])\n",
    "\n",
    "def DescensoC(A, b, seed , error =0.01):\n",
    "\n",
    "    r0 = np.dot(A,seed) -b\n",
    "    p0 = -r0\n",
    "    rk = r0.copy()\n",
    "    pk = p0.copy()\n",
    "    ak = -np.dot(np.transpose(rk),pk)/np.dot(np.transpose(pk),np.dot(A,pk))\n",
    "    xk = seed.copy()\n",
    "    k =0\n",
    "    while np.max(np.abs(rk)) > error:\n",
    "        x0 = xk.copy()\n",
    "        xk = xk  + np.dot(ak,pk)\n",
    "        ak = -np.dot(np.transpose(rk),pk)/np.dot(np.transpose(pk),np.dot(A,pk))\n",
    "        rk = np.dot(A,xk) -b\n",
    "        Bk = np.dot(np.transpose(rk),np.dot(A,pk))/(np.dot(np.transpose(pk),np.dot(A,pk)))\n",
    "        pk = -rk + np.dot(Bk,pk)\n",
    "        ak = -np.dot(np.transpose(rk),pk)/np.dot(np.transpose(pk),np.dot(A,pk))\n",
    "        k+= 1\n",
    "    return xk,k\n",
    "\n",
    "result =  DescensoC(matrix,b,seed)\n",
    "print(\"La solucion del sistema es el vector: \")\n",
    "print(result[0])\n",
    "print(\"En \" + str(result[1]) + \" iteraciones\")"
   ]
  },
  {
   "cell_type": "code",
   "execution_count": null,
   "metadata": {},
   "outputs": [],
   "source": []
  }
 ],
 "metadata": {
  "kernelspec": {
   "display_name": "base",
   "language": "python",
   "name": "python3"
  },
  "language_info": {
   "codemirror_mode": {
    "name": "ipython",
    "version": 3
   },
   "file_extension": ".py",
   "mimetype": "text/x-python",
   "name": "python",
   "nbconvert_exporter": "python",
   "pygments_lexer": "ipython3",
   "version": "3.11.4"
  }
 },
 "nbformat": 4,
 "nbformat_minor": 2
}
