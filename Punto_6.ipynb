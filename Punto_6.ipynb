{
 "cells": [
  {
   "cell_type": "code",
   "execution_count": 34,
   "metadata": {},
   "outputs": [],
   "source": [
    "import numpy as np"
   ]
  },
  {
   "cell_type": "code",
   "execution_count": 35,
   "metadata": {},
   "outputs": [],
   "source": [
    "R=0.5\n",
    "a=0.01\n",
    "funcion=lambda x:(np.sqrt((a**2)-(x**2)))/(R+x)"
   ]
  },
  {
   "cell_type": "code",
   "execution_count": 36,
   "metadata": {},
   "outputs": [],
   "source": [
    "def derivate(f,x,h=0.01):\n",
    "    return (f(x+h)-f(x-h))/(2*h)"
   ]
  },
  {
   "cell_type": "code",
   "execution_count": 174,
   "metadata": {},
   "outputs": [],
   "source": [
    "def metodo_trapecio(a,b,f):\n",
    "    x=np.linspace(a,b,180)\n",
    "    h=x[1]-x[0]\n",
    "    suma=0\n",
    "    for i in range(1,len(x)):\n",
    "        suma+=f(x[i])\n",
    "    integral=(h/2)*(f(a)+f(b))+(h*suma)\n",
    "    return integral"
   ]
  },
  {
   "cell_type": "code",
   "execution_count": 175,
   "metadata": {
    "scrolled": true
   },
   "outputs": [
    {
     "data": {
      "text/plain": [
       "0.0003140517912468587"
      ]
     },
     "execution_count": 175,
     "metadata": {},
     "output_type": "execute_result"
    }
   ],
   "source": [
    "integral_trapecio=metodo_trapecio(-a,a,funcion)\n",
    "integral_trapecio"
   ]
  },
  {
   "cell_type": "code",
   "execution_count": 176,
   "metadata": {},
   "outputs": [
    {
     "data": {
      "text/plain": [
       "0.0003141906875702543"
      ]
     },
     "execution_count": 176,
     "metadata": {},
     "output_type": "execute_result"
    }
   ],
   "source": [
    "#Comprobar\n",
    "sol=np.pi*(R-np.sqrt((R**2)-(a**2)))\n",
    "sol"
   ]
  },
  {
   "cell_type": "code",
   "execution_count": 194,
   "metadata": {},
   "outputs": [],
   "source": [
    "def regla_simpson_un_tercio(f,a,b):\n",
    "    x=np.linspace(a,b,380)\n",
    "    y=f(x)\n",
    "    h=x[1]-x[0]\n",
    "    integral=0\n",
    "    integral+=(f(a)+f(b))\n",
    "    for i in range(len(y[1:-1]) ):\n",
    "            if i%2 == 0:\n",
    "                integral += 2*y[i]\n",
    "            else:\n",
    "                integral += 4*y[i]\n",
    "    return integral*(h/3)"
   ]
  },
  {
   "cell_type": "code",
   "execution_count": null,
   "metadata": {},
   "outputs": [],
   "source": [
    "integral_simpson=regla_simpson_un_tercio(funcion,-a,a)\n",
    "integral_simpson"
   ]
  },
  {
   "cell_type": "code",
   "execution_count": 196,
   "metadata": {
    "scrolled": true
   },
   "outputs": [
    {
     "data": {
      "text/plain": [
       "0.00044207651241907496"
      ]
     },
     "execution_count": 196,
     "metadata": {},
     "output_type": "execute_result"
    }
   ],
   "source": [
    "error_trapecio=(np.abs(sol-integral_trapecio))/sol\n",
    "error_trapecio #Error menor a 0.005"
   ]
  },
  {
   "cell_type": "code",
   "execution_count": 198,
   "metadata": {},
   "outputs": [
    {
     "data": {
      "text/plain": [
       "0.00036704622924731427"
      ]
     },
     "execution_count": 198,
     "metadata": {},
     "output_type": "execute_result"
    }
   ],
   "source": [
    "error_simpson=(np.abs(sol-integral_simpson))/sol\n",
    "error_simpson #Error menor a 0.005"
   ]
  },
  {
   "cell_type": "code",
   "execution_count": null,
   "metadata": {},
   "outputs": [],
   "source": []
  }
 ],
 "metadata": {
  "kernelspec": {
   "display_name": "Python 3",
   "language": "python",
   "name": "python3"
  },
  "language_info": {
   "codemirror_mode": {
    "name": "ipython",
    "version": 3
   },
   "file_extension": ".py",
   "mimetype": "text/x-python",
   "name": "python",
   "nbconvert_exporter": "python",
   "pygments_lexer": "ipython3",
   "version": "3.8.3"
  }
 },
 "nbformat": 4,
 "nbformat_minor": 4
}
