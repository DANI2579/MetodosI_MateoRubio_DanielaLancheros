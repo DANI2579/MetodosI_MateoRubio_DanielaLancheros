{
 "cells": [
  {
   "cell_type": "markdown",
   "metadata": {},
   "source": [
    "Semana #2 Repaso"
   ]
  },
  {
   "cell_type": "code",
   "execution_count": 16,
   "metadata": {},
   "outputs": [],
   "source": [
    "#Imports necesarios para casi que todos los ejercicios:\n",
    "import numpy as np\n",
    "import matplotlib.pyplot as plt"
   ]
  },
  {
   "cell_type": "markdown",
   "metadata": {},
   "source": [
    "Algoritmo Babilonico:"
   ]
  },
  {
   "cell_type": "code",
   "execution_count": 17,
   "metadata": {},
   "outputs": [
    {
     "data": {
      "text/plain": [
       "Text(0.5, 1.0, 'Aproximacion final: 27.928')"
      ]
     },
     "execution_count": 17,
     "metadata": {},
     "output_type": "execute_result"
    },
    {
     "data": {
      "image/png": "[encoded data removed]",
      "text/plain": [
       "<Figure size 640x480 with 1 Axes>"
      ]
     },
     "metadata": {},
     "output_type": "display_data"
    }
   ],
   "source": [
    "def babilonico(arr:list, num:float, stim)->np.array:\n",
    "    stim = (stim+num/stim)/2\n",
    "    arr.append(stim)\n",
    "    if np.abs(stim - np.sqrt(num))>0.0000000005:\n",
    "        stim = babilonico(arr,num,stim)\n",
    "    return np.array(arr)\n",
    "aprox,num = 1,780\n",
    "valores = []\n",
    "resultado = babilonico(valores,num,aprox)\n",
    "i= 0\n",
    "##Creacion de una grafica\n",
    "fig,axs =plt.subplots()\n",
    "##Ajustar una linea horizontal\n",
    "axs.axhline(y = np.sqrt(num),color='r')\n",
    "##Ajustar la escala de la grafica\n",
    "axs.set_yscale('linear')\n",
    "while i < np.size(resultado):\n",
    "    axs.scatter(i,resultado[i],color = 'b')\n",
    "    i+=1\n",
    "##Colocar Texto a la grafica: \n",
    "axs.set_title('Aproximacion final: ' + str(round(resultado[-1],3)))"
   ]
  },
  {
   "cell_type": "markdown",
   "metadata": {},
   "source": [
    "Funciones extra que pueden ser de importancia:"
   ]
  },
  {
   "cell_type": "code",
   "execution_count": 18,
   "metadata": {},
   "outputs": [
    {
     "name": "stdout",
     "output_type": "stream",
     "text": [
      "[ 0.  1.  2.  3.  4.  5.  6.  7.  8.  9. 10.]\n"
     ]
    }
   ],
   "source": [
    "##np.linspace funciona para realizar un np array que recibe como primer parametro el numero \n",
    "##por el que inicia el array, como segundo parametro el numero por el que termina y por ultimo\n",
    "##la cantidad de numeros que se quiere entre ellos, siendo este ultimo parametro la cantidad\n",
    "##de elementos que van a haber en el array.\n",
    "x = np.linspace(0,10,11)\n",
    "print(x)"
   ]
  },
  {
   "cell_type": "code",
   "execution_count": 19,
   "metadata": {},
   "outputs": [
    {
     "name": "stdout",
     "output_type": "stream",
     "text": [
      "[0 1 2 3 4 5 6 7 8 9]\n"
     ]
    }
   ],
   "source": [
    "#np.arange funciona de forma similar, solo que el ultimo valor es el paso que se da entre\n",
    "#indices del array\n",
    "y =np.arange(0,10,1)\n",
    "print(y)"
   ]
  },
  {
   "cell_type": "code",
   "execution_count": 21,
   "metadata": {},
   "outputs": [
    {
     "name": "stdout",
     "output_type": "stream",
     "text": [
      "(array([2, 3, 4, 5, 6, 7, 8, 9], dtype=int64),)\n",
      "(array([2], dtype=int64),)\n"
     ]
    }
   ],
   "source": [
    "##np.where() se manda como parametro el array con una condicion que se quiere cumplir \n",
    "##y esto devuelve los valores que dentro del array cumplen la condicion \n",
    "##np.amin() devueleve el valor minimo de un array\n",
    "\n",
    "print(np.where(y > 1))\n",
    "\n",
    "print(np.where(y == np.amin(np.where(y > 1))))"
   ]
  },
  {
   "cell_type": "code",
   "execution_count": null,
   "metadata": {},
   "outputs": [],
   "source": []
  }
 ],
 "metadata": {
  "kernelspec": {
   "display_name": "Python 3",
   "language": "python",
   "name": "python3"
  },
  "language_info": {
   "codemirror_mode": {
    "name": "ipython",
    "version": 3
   },
   "file_extension": ".py",
   "mimetype": "text/x-python",
   "name": "python",
   "nbconvert_exporter": "python",
   "pygments_lexer": "ipython3",
   "version": "3.11.4"
  },
  "orig_nbformat": 4
 },
 "nbformat": 4,
 "nbformat_minor": 2
}
