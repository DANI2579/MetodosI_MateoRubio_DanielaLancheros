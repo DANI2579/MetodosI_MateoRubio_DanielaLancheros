{
 "cells": [
  {
   "cell_type": "code",
   "execution_count": 337,
   "metadata": {},
   "outputs": [],
   "source": [
    "import numpy as np \n",
    "import sympy as sym\n",
    "from tqdm import tqdm\n",
    "import matplotlib.pyplot as mlt"
   ]
  },
  {
   "cell_type": "code",
   "execution_count": 126,
   "metadata": {},
   "outputs": [],
   "source": [
    "x=sym.Symbol('x')\n",
    "n=20"
   ]
  },
  {
   "cell_type": "code",
   "execution_count": 6,
   "metadata": {},
   "outputs": [],
   "source": [
    "def polinomio_laguerre(n,x):\n",
    "    f=sym.exp(-x)*(x**n)\n",
    "    l=(sym.exp(x)/sym.factorial(n))*sym.diff(f,x,n)\n",
    "    return sym.simplify(l)"
   ]
  },
  {
   "cell_type": "code",
   "execution_count": 111,
   "metadata": {},
   "outputs": [
    {
     "data": {
      "text/latex": [
       "$\\displaystyle \\frac{x^{2}}{2} - 2 x + 1$"
      ],
      "text/plain": [
       "x**2/2 - 2*x + 1"
      ]
     },
     "execution_count": 111,
     "metadata": {},
     "output_type": "execute_result"
    }
   ],
   "source": [
    "polinomio_laguerre(2,x)"
   ]
  },
  {
   "cell_type": "code",
   "execution_count": 322,
   "metadata": {},
   "outputs": [],
   "source": [
    "def GetNewton(f,df,xn,itmax=1000,precision=1e-12):\n",
    "    \n",
    "    error = 1.\n",
    "    it = 0\n",
    "    \n",
    "    while error >= precision and it < itmax:\n",
    "        \n",
    "        try:\n",
    "            \n",
    "            xn1 = xn - f(xn)/df(xn)\n",
    "            \n",
    "            error = np.abs(xn1-xn)/np.abs(xn)\n",
    "            \n",
    "            #error = np.abs(f(xn)/df(xn))\n",
    "            \n",
    "        except ZeroDivisionError:\n",
    "            print('Zero Division')\n",
    "            \n",
    "        xn = xn1\n",
    "        it += 1\n",
    "        \n",
    "    if it == itmax:\n",
    "        return False\n",
    "    else:\n",
    "        return xn"
   ]
  },
  {
   "cell_type": "code",
   "execution_count": 330,
   "metadata": {},
   "outputs": [],
   "source": [
    "def GetRoots(f,df,x,tolerancia = 5):\n",
    "    \n",
    "    Roots = np.array([])\n",
    "    \n",
    "    for i in x:\n",
    "        \n",
    "        root = GetNewton(f,df,i)\n",
    "\n",
    "        if  root != False:\n",
    "            croot = np.round( root, tolerancia )\n",
    "            \n",
    "            if croot not in Roots:\n",
    "                Roots = np.append(Roots, croot)\n",
    "                \n",
    "    Roots.sort()\n",
    "    \n",
    "    return Roots"
   ]
  },
  {
   "cell_type": "code",
   "execution_count": 331,
   "metadata": {},
   "outputs": [],
   "source": [
    "def derivada(n):\n",
    "    polinomio=polinomio_laguerre(n,x)\n",
    "    return sym.diff(polinomio,x,1)"
   ]
  },
  {
   "cell_type": "code",
   "execution_count": 332,
   "metadata": {
    "scrolled": true
   },
   "outputs": [
    {
     "data": {
      "text/latex": [
       "$\\displaystyle x - 2$"
      ],
      "text/plain": [
       "x - 2"
      ]
     },
     "execution_count": 332,
     "metadata": {},
     "output_type": "execute_result"
    }
   ],
   "source": [
    "derivada(2)"
   ]
  },
  {
   "cell_type": "code",
   "execution_count": 354,
   "metadata": {},
   "outputs": [],
   "source": [
    "def GetAllRoots_l(x1,n=20):\n",
    "    x=sym.Symbol('x',real=True)\n",
    "    polinomio=polinomio_laguerre(n,x)\n",
    "    poly=sym.lambdify([x],polinomio, 'numpy')\n",
    "    Dpoly=sym.lambdify([x],derivada(n), 'numpy')\n",
    "    \n",
    "    return GetRoots(poly, Dpoly, x1)"
   ]
  },
  {
   "cell_type": "code",
   "execution_count": 355,
   "metadata": {},
   "outputs": [],
   "source": [
    "x1 = np.linspace(0.0001,100,1000)"
   ]
  },
  {
   "cell_type": "code",
   "execution_count": 356,
   "metadata": {
    "scrolled": true
   },
   "outputs": [
    {
     "data": {
      "text/plain": [
       "array([ 0.07054,  0.37213,  0.91658,  1.70731,  2.7492 ,  4.04893,\n",
       "        5.61517,  7.45902,  9.59439, 12.0388 , 14.81429, 17.9489 ,\n",
       "       21.47879, 25.4517 , 29.93255, 35.01343, 40.83306, 47.61999,\n",
       "       55.8108 , 66.52442])"
      ]
     },
     "execution_count": 356,
     "metadata": {},
     "output_type": "execute_result"
    }
   ],
   "source": [
    "GetAllRoots_l(x1)"
   ]
  },
  {
   "cell_type": "code",
   "execution_count": 339,
   "metadata": {},
   "outputs": [],
   "source": [
    "polinomio=polinomio_laguerre(20,x)\n",
    "poly=sym.lambdify([x],polinomio, 'numpy')"
   ]
  },
  {
   "cell_type": "code",
   "execution_count": 361,
   "metadata": {},
   "outputs": [],
   "source": [
    "def GetWeights(n=20):\n",
    "    polinomio=polinomio_laguerre(21,x)\n",
    "    poly=poly=sym.lambdify([x],polinomio, 'numpy')\n",
    "    Roots=GetAllRoots_l(x1)\n",
    "    return Roots/((21**2)*(poly(Roots)**2))"
   ]
  },
  {
   "cell_type": "code",
   "execution_count": 362,
   "metadata": {},
   "outputs": [
    {
     "data": {
      "text/plain": [
       "array([1.68735983e-01, 2.91152280e-01, 2.66711186e-01, 1.65988625e-01,\n",
       "       7.48252337e-02, 2.49632327e-02, 6.20277596e-03, 1.14494636e-03,\n",
       "       1.55743683e-04, 1.54015743e-05, 1.08649671e-06, 5.33006738e-08,\n",
       "       1.75797544e-09, 3.72551832e-11, 4.76756116e-13, 3.37286128e-15,\n",
       "       1.15501103e-17, 1.53952769e-20, 5.28642612e-24, 1.65645307e-28])"
      ]
     },
     "execution_count": 362,
     "metadata": {},
     "output_type": "execute_result"
    }
   ],
   "source": [
    "GetWeights()"
   ]
  },
  {
   "cell_type": "code",
   "execution_count": 363,
   "metadata": {},
   "outputs": [
    {
     "data": {
      "text/plain": [
       "(array([ 0.07053989,  0.37212682,  0.9165821 ,  1.70730653,  2.74919926,\n",
       "         4.04892531,  5.61517497,  7.45901745,  9.59439287, 12.03880255,\n",
       "        14.81429344, 17.94889552, 21.47878824, 25.45170279, 29.93255463,\n",
       "        35.01343424, 40.83305706, 47.61999405, 55.81079575, 66.52441653]),\n",
       " array([1.68746802e-01, 2.91254362e-01, 2.66686103e-01, 1.66002453e-01,\n",
       "        7.48260647e-02, 2.49644173e-02, 6.20255084e-03, 1.14496239e-03,\n",
       "        1.55741773e-04, 1.54014409e-05, 1.08648637e-06, 5.33012091e-08,\n",
       "        1.75798118e-09, 3.72550240e-11, 4.76752925e-13, 3.37284424e-15,\n",
       "        1.15501434e-17, 1.53952214e-20, 5.28644273e-24, 1.65645661e-28]))"
      ]
     },
     "execution_count": 363,
     "metadata": {},
     "output_type": "execute_result"
    }
   ],
   "source": [
    "roots, weights=np.polynomial.laguerre.laggauss(n)\n",
    "roots, weights #Verificar valores reales"
   ]
  },
  {
   "cell_type": "code",
   "execution_count": null,
   "metadata": {},
   "outputs": [],
   "source": []
  }
 ],
 "metadata": {
  "kernelspec": {
   "display_name": "Python 3",
   "language": "python",
   "name": "python3"
  },
  "language_info": {
   "codemirror_mode": {
    "name": "ipython",
    "version": 3
   },
   "file_extension": ".py",
   "mimetype": "text/x-python",
   "name": "python",
   "nbconvert_exporter": "python",
   "pygments_lexer": "ipython3",
   "version": "3.8.3"
  }
 },
 "nbformat": 4,
 "nbformat_minor": 4
}
