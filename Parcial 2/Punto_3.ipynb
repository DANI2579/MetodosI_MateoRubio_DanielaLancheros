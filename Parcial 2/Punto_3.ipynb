{
 "cells": [
  {
   "cell_type": "code",
   "execution_count": 14,
   "metadata": {},
   "outputs": [],
   "source": [
    "import sympy as sym\n",
    "from sympy import Eq"
   ]
  },
  {
   "cell_type": "code",
   "execution_count": 70,
   "metadata": {},
   "outputs": [],
   "source": [
    "x=sym.Symbol('x', real=True)\n",
    "h=sym.Symbol('h',real=True)\n",
    "fa=sym.Symbol('f(a)',real=True)\n",
    "fb=sym.Symbol('f(b)',real=True)\n",
    "fxm=sym.Symbol('f(X_m)',real=True)"
   ]
  },
  {
   "cell_type": "code",
   "execution_count": 49,
   "metadata": {
    "scrolled": true
   },
   "outputs": [
    {
     "data": {
      "text/latex": [
       "$\\displaystyle \\frac{\\left(- 2 h + x\\right) \\left(- h + x\\right)}{2 h^{2}}$"
      ],
      "text/plain": [
       "(-2*h + x)*(-h + x)/(2*h**2)"
      ]
     },
     "execution_count": 49,
     "metadata": {},
     "output_type": "execute_result"
    }
   ],
   "source": [
    "p=((x-h)*(x-2*h))/(2*(h**2))\n",
    "p"
   ]
  },
  {
   "cell_type": "code",
   "execution_count": 72,
   "metadata": {},
   "outputs": [],
   "source": [
    "i1=sym.integrate(p,(x,0,2*h))"
   ]
  },
  {
   "cell_type": "code",
   "execution_count": 73,
   "metadata": {},
   "outputs": [
    {
     "data": {
      "text/latex": [
       "$\\displaystyle - \\frac{x \\left(- 2 h + x\\right)}{h^{2}}$"
      ],
      "text/plain": [
       "-x*(-2*h + x)/h**2"
      ]
     },
     "execution_count": 73,
     "metadata": {},
     "output_type": "execute_result"
    }
   ],
   "source": [
    "p1=-(x*(x-2*h))/(h**2)\n",
    "p1"
   ]
  },
  {
   "cell_type": "code",
   "execution_count": 74,
   "metadata": {},
   "outputs": [],
   "source": [
    "i2=sym.integrate(p1,(x,0,2*h))"
   ]
  },
  {
   "cell_type": "code",
   "execution_count": 75,
   "metadata": {},
   "outputs": [
    {
     "data": {
      "text/latex": [
       "$\\displaystyle \\frac{x \\left(- h + x\\right)}{2 h^{2}}$"
      ],
      "text/plain": [
       "x*(-h + x)/(2*h**2)"
      ]
     },
     "execution_count": 75,
     "metadata": {},
     "output_type": "execute_result"
    }
   ],
   "source": [
    "p2=(x*(x-h))/((2*h)*((2*h)-h))\n",
    "p2"
   ]
  },
  {
   "cell_type": "code",
   "execution_count": 76,
   "metadata": {},
   "outputs": [],
   "source": [
    "i3=sym.integrate(p2,(x,0,2*h))"
   ]
  },
  {
   "cell_type": "code",
   "execution_count": 78,
   "metadata": {},
   "outputs": [
    {
     "data": {
      "text/latex": [
       "$\\displaystyle \\frac{h \\left(4 f(X_{m)} + f(a) + f(b)\\right)}{3}$"
      ],
      "text/plain": [
       "h*(4*f(X_m) + f(a) + f(b))/3"
      ]
     },
     "execution_count": 78,
     "metadata": {},
     "output_type": "execute_result"
    }
   ],
   "source": [
    "r=i1*fa+i2*fxm+i3*fb\n",
    "r=sym.simplify(r)\n",
    "r#Solución"
   ]
  },
  {
   "cell_type": "code",
   "execution_count": null,
   "metadata": {},
   "outputs": [],
   "source": []
  }
 ],
 "metadata": {
  "kernelspec": {
   "display_name": "Python 3",
   "language": "python",
   "name": "python3"
  },
  "language_info": {
   "codemirror_mode": {
    "name": "ipython",
    "version": 3
   },
   "file_extension": ".py",
   "mimetype": "text/x-python",
   "name": "python",
   "nbconvert_exporter": "python",
   "pygments_lexer": "ipython3",
   "version": "3.8.3"
  }
 },
 "nbformat": 4,
 "nbformat_minor": 4
}
