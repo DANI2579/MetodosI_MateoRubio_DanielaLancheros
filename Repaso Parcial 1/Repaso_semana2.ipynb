{
 "cells": [
  {
   "cell_type": "markdown",
   "metadata": {},
   "source": [
    "Semana #2 Repaso"
   ]
  },
  {
   "cell_type": "code",
   "execution_count": 202,
   "metadata": {},
   "outputs": [],
   "source": [
    "#Imports necesarios para casi que todos los ejercicios:\n",
    "import numpy as np\n",
    "import matplotlib.pyplot as plt"
   ]
  },
  {
   "cell_type": "markdown",
   "metadata": {},
   "source": [
    "Algoritmo Babilonico:"
   ]
  },
  {
   "cell_type": "code",
   "execution_count": 203,
   "metadata": {},
   "outputs": [
    {
     "data": {
      "text/plain": [
       "Text(0.5, 1.0, 'Aproximacion final: 27.928')"
      ]
     },
     "execution_count": 203,
     "metadata": {},
     "output_type": "execute_result"
    },
    {
     "data": {
      "image/png": "[encoded data removed]",
      "text/plain": [
       "<Figure size 640x480 with 1 Axes>"
      ]
     },
     "metadata": {},
     "output_type": "display_data"
    }
   ],
   "source": [
    "def babilonico(arr:list, num:float, stim)->np.array:\n",
    "    stim = (stim+num/stim)/2\n",
    "    arr.append(stim)\n",
    "    if np.abs(stim - np.sqrt(num))>0.0000000005:\n",
    "        stim = babilonico(arr,num,stim)\n",
    "    return np.array(arr)\n",
    "aprox,num = 1,780\n",
    "valores = []\n",
    "resultado = babilonico(valores,num,aprox)\n",
    "i= 0\n",
    "##Creacion de una grafica\n",
    "fig,axs =plt.subplots()\n",
    "##Ajustar una linea horizontal\n",
    "axs.axhline(y = np.sqrt(num),color='r')\n",
    "##Ajustar la escala de la grafica\n",
    "axs.set_yscale('linear')\n",
    "while i < np.size(resultado):\n",
    "    axs.scatter(i,resultado[i],color = 'b')\n",
    "    i+=1\n",
    "##Colocar Texto a la grafica: \n",
    "axs.set_title('Aproximacion final: ' + str(round(resultado[-1],3)))"
   ]
  },
  {
   "cell_type": "markdown",
   "metadata": {},
   "source": [
    "Funciones extra que pueden ser de importancia:"
   ]
  },
  {
   "cell_type": "code",
   "execution_count": 204,
   "metadata": {},
   "outputs": [
    {
     "name": "stdout",
     "output_type": "stream",
     "text": [
      "[ 0.  1.  2.  3.  4.  5.  6.  7.  8.  9. 10.]\n"
     ]
    }
   ],
   "source": [
    "##np.linspace funciona para realizar un np array que recibe como primer parametro el numero \n",
    "##por el que inicia el array, como segundo parametro el numero por el que termina y por ultimo\n",
    "##la cantidad de numeros que se quiere entre ellos, siendo este ultimo parametro la cantidad\n",
    "##de elementos que van a haber en el array.\n",
    "x = np.linspace(0,10,11)\n",
    "print(x)"
   ]
  },
  {
   "cell_type": "code",
   "execution_count": 205,
   "metadata": {},
   "outputs": [
    {
     "name": "stdout",
     "output_type": "stream",
     "text": [
      "[0 1 2 3 4 5 6 7 8 9]\n"
     ]
    }
   ],
   "source": [
    "#np.arange funciona de forma similar, solo que el ultimo valor es el paso que se da entre\n",
    "#indices del array\n",
    "y =np.arange(0,10,1)\n",
    "print(y)"
   ]
  },
  {
   "cell_type": "code",
   "execution_count": 206,
   "metadata": {},
   "outputs": [
    {
     "name": "stdout",
     "output_type": "stream",
     "text": [
      "(array([2, 3, 4, 5, 6, 7, 8, 9], dtype=int64),)\n",
      "(array([2], dtype=int64),)\n"
     ]
    }
   ],
   "source": [
    "##np.where() se manda como parametro el array con una condicion que se quiere cumplir \n",
    "##y esto devuelve los valores que dentro del array cumplen la condicion \n",
    "##np.amin() devueleve el valor minimo de un array\n",
    "\n",
    "print(np.where(y > 1))\n",
    "\n",
    "print(np.where(y == np.\n",
    "\n",
    "amin(np.where(y > 1))))"
   ]
  },
  {
   "cell_type": "markdown",
   "metadata": {},
   "source": [
    "Graficacion 3D"
   ]
  },
  {
   "cell_type": "code",
   "execution_count": 207,
   "metadata": {},
   "outputs": [
    {
     "data": {
      "text/plain": [
       "array([[1., 2., 3., 4., 5., 6., 7.],\n",
       "       [2., 0., 0., 0., 0., 0., 0.],\n",
       "       [3., 0., 0., 0., 0., 0., 0.]])"
      ]
     },
     "execution_count": 207,
     "metadata": {},
     "output_type": "execute_result"
    }
   ],
   "source": [
    "#Es necesario relizar el siguiente import: \n",
    "from mpl_toolkits.mplot3d import axes3d\n",
    "##Creacion y manejo de matrices\n",
    "M = np.zeros((3,7)) ##crea un array 2x2\n",
    "#print(M)\n",
    "M.T ##Hace la transpuesta de el arreglo\n",
    "M.shape ##Retorna las dimensiones de la matriz\n",
    "M[:,0] = np.linspace(1,3,3) ##En todas las filas, en la columna 0\n",
    "M[0,:] = np.linspace(1,7,7) ##En todas las columnas en la fila 0\n",
    "M"
   ]
  },
  {
   "cell_type": "code",
   "execution_count": 208,
   "metadata": {},
   "outputs": [],
   "source": [
    "A = 1\n",
    "B = 3\n",
    "omega = 2*np.pi/10\n",
    "N = 50 "
   ]
  },
  {
   "cell_type": "code",
   "execution_count": 209,
   "metadata": {},
   "outputs": [
    {
     "data": {
      "text/plain": [
       "array([ 0.        ,  0.6122449 ,  1.2244898 ,  1.83673469,  2.44897959,\n",
       "        3.06122449,  3.67346939,  4.28571429,  4.89795918,  5.51020408,\n",
       "        6.12244898,  6.73469388,  7.34693878,  7.95918367,  8.57142857,\n",
       "        9.18367347,  9.79591837, 10.40816327, 11.02040816, 11.63265306,\n",
       "       12.24489796, 12.85714286, 13.46938776, 14.08163265, 14.69387755,\n",
       "       15.30612245, 15.91836735, 16.53061224, 17.14285714, 17.75510204,\n",
       "       18.36734694, 18.97959184, 19.59183673, 20.20408163, 20.81632653,\n",
       "       21.42857143, 22.04081633, 22.65306122, 23.26530612, 23.87755102,\n",
       "       24.48979592, 25.10204082, 25.71428571, 26.32653061, 26.93877551,\n",
       "       27.55102041, 28.16326531, 28.7755102 , 29.3877551 , 30.        ])"
      ]
     },
     "execution_count": 209,
     "metadata": {},
     "output_type": "execute_result"
    }
   ],
   "source": [
    "t = np.linspace(0,10,N)\n",
    "r = np.zeros((N,3))\n",
    "r[:,0] = A*np.cos(omega*t) #en todas las filas, en la columna 0\n",
    "r[:,1] = A*np.sin(omega*t) #en todas las filas, en la columna 1\n",
    "r[:,2] = B*t #en todas las filas, en la columna 2\n",
    "r[:,2]"
   ]
  },
  {
   "cell_type": "code",
   "execution_count": 210,
   "metadata": {},
   "outputs": [
    {
     "data": {
      "text/plain": [
       "<mpl_toolkits.mplot3d.art3d.Path3DCollection at 0x20da0e97990>"
      ]
     },
     "execution_count": 210,
     "metadata": {},
     "output_type": "execute_result"
    },
    {
     "data": {
      "image/png": "[encoded data removed]",
      "text/plain": [
       "<Figure size 400x400 with 1 Axes>"
      ]
     },
     "metadata": {},
     "output_type": "display_data"
    }
   ],
   "source": [
    "x = B*t\n",
    "fig = plt.figure(figsize=(4,4))\n",
    "ax2 = fig.add_subplot(100,projection='3d')\n",
    "ax1.scatter(t,x)\n",
    "ax2.scatter(r[:,0],r[:,1],r[:,2],color='k',marker='o',s=100)"
   ]
  }
 ],
 "metadata": {
  "kernelspec": {
   "display_name": "Python 3",
   "language": "python",
   "name": "python3"
  },
  "language_info": {
   "codemirror_mode": {
    "name": "ipython",
    "version": 3
   },
   "file_extension": ".py",
   "mimetype": "text/x-python",
   "name": "python",
   "nbconvert_exporter": "python",
   "pygments_lexer": "ipython3",
   "version": "3.11.4"
  },
  "orig_nbformat": 4
 },
 "nbformat": 4,
 "nbformat_minor": 2
}
