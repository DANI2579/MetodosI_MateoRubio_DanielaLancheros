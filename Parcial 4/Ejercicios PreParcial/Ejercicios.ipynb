{
 "cells": [
  {
   "cell_type": "markdown",
   "metadata": {},
   "source": [
    "El 2 de optimizacion y el 8 de probabilidad, el de estimacion de parametros y el de hidden markov"
   ]
  },
  {
   "cell_type": "code",
   "execution_count": 11,
   "metadata": {},
   "outputs": [],
   "source": [
    "import numpy as np"
   ]
  },
  {
   "cell_type": "markdown",
   "metadata": {},
   "source": [
    "# Ejercicio 2 Optimización:"
   ]
  },
  {
   "cell_type": "markdown",
   "metadata": {},
   "source": [
    "Definimos nuestro dominio:"
   ]
  },
  {
   "cell_type": "code",
   "execution_count": 12,
   "metadata": {},
   "outputs": [],
   "source": [
    "S = int(1e2)\n",
    "X = np.linspace(-20,20,S)\n",
    "Y = np.linspace(-20,20,S)\n",
    "Z = np.linspace(-20,20,S)\n",
    "x_cor,y_cor,z_cor = np.meshgrid(X,Y,Z) "
   ]
  },
  {
   "cell_type": "code",
   "execution_count": 13,
   "metadata": {},
   "outputs": [],
   "source": [
    "h =1e-7\n",
    "g = lambda x,y,z: 2*x-4*y+5*z\n",
    "grad = lambda f,x,y,z: np.array([(f(x+h,y,z)-f(x-h,y,z))/2*h,(f(x,y+h,z)-f(x,y-h,z))/2*h,(f(x,y,z+h)-f(x,y,z-h))/2*h])"
   ]
  },
  {
   "cell_type": "code",
   "execution_count": 14,
   "metadata": {},
   "outputs": [],
   "source": [
    "x = np.linspace(1, 3,3)\n",
    "y = np.linspace(4, 6, 3)\n",
    "z = np.linspace(7, 9, 3)\n",
    "X,Y,Z = np.meshgrid(x,y,z)\n",
    "f  = lambda x,y,z: (x**2) + (y**2) +(z**2)"
   ]
  },
  {
   "cell_type": "markdown",
   "metadata": {},
   "source": [
    "# Ejercicio 8 Probabilidad"
   ]
  },
  {
   "cell_type": "code",
   "execution_count": 58,
   "metadata": {},
   "outputs": [
    {
     "data": {
      "text/plain": [
       "0.37375"
      ]
     },
     "execution_count": 58,
     "metadata": {},
     "output_type": "execute_result"
    }
   ],
   "source": [
    "def probabilidad(N):\n",
    "   f =0\n",
    "   for i in range(N):\n",
    "    c1 =np.random.choice([1,-1])\n",
    "    c2 = np.random.choice([1,-1])\n",
    "    c3 = np.random.choice([1,-1])\n",
    "    c4 = np.random.choice([1,-1])\n",
    "    if c1+c2+c3+c4 ==0:\n",
    "        f+=1\n",
    "   return f/int(N)\n",
    "\n",
    "\n",
    "probabilidad(10**5)"
   ]
  },
  {
   "cell_type": "markdown",
   "metadata": {},
   "source": [
    "# Ejercicio 1 Estimación de Parametros"
   ]
  }
 ],
 "metadata": {
  "kernelspec": {
   "display_name": "Python 3",
   "language": "python",
   "name": "python3"
  },
  "language_info": {
   "codemirror_mode": {
    "name": "ipython",
    "version": 3
   },
   "file_extension": ".py",
   "mimetype": "text/x-python",
   "name": "python",
   "nbconvert_exporter": "python",
   "pygments_lexer": "ipython3",
   "version": "3.10.12"
  }
 },
 "nbformat": 4,
 "nbformat_minor": 2
}
