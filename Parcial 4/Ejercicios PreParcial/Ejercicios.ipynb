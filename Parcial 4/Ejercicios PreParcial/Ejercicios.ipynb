{
 "cells": [
  {
   "cell_type": "markdown",
   "metadata": {},
   "source": [
    "El 2 de optimizacion y el 8 de probabilidad, el de estimacion de parametros y el de hidden markov"
   ]
  },
  {
   "cell_type": "code",
   "execution_count": 1,
   "metadata": {},
   "outputs": [],
   "source": [
    "import numpy as np\n",
    "import scipy.optimize as spo\n",
    "import matplotlib.pyplot as plt\n",
    "import sympy as sym\n",
    "from mpl_toolkits.mplot3d import Axes3D"
   ]
  },
  {
   "cell_type": "markdown",
   "metadata": {},
   "source": [
    "# Optimización"
   ]
  },
  {
   "cell_type": "markdown",
   "metadata": {},
   "source": [
    "Ejercicio 2:"
   ]
  },
  {
   "cell_type": "code",
   "execution_count": 12,
   "metadata": {},
   "outputs": [],
   "source": [
    "S = int(1e2)\n",
    "X = np.linspace(-20,20,S)\n",
    "Y = np.linspace(-20,20,S)\n",
    "Z = np.linspace(-20,20,S)\n",
    "x_cor,y_cor,z_cor = np.meshgrid(X,Y,Z) "
   ]
  },
  {
   "cell_type": "code",
   "execution_count": 13,
   "metadata": {},
   "outputs": [],
   "source": [
    "h =1e-7\n",
    "g = lambda x,y,z: 2*x-4*y+5*z\n",
    "grad = lambda f,x,y,z: np.array([(f(x+h,y,z)-f(x-h,y,z))/2*h,(f(x,y+h,z)-f(x,y-h,z))/2*h,(f(x,y,z+h)-f(x,y,z-h))/2*h])"
   ]
  },
  {
   "cell_type": "code",
   "execution_count": 4,
   "metadata": {},
   "outputs": [],
   "source": [
    "x = np.linspace(1, 3,3)\n",
    "y = np.linspace(4, 6, 3)\n",
    "z = np.linspace(7, 9, 3)\n",
    "X,Y,Z = np.meshgrid(x,y,z)\n",
    "f  = lambda x,y,z: (x**2) + (y**2) +(z**2)"
   ]
  },
  {
   "cell_type": "markdown",
   "metadata": {},
   "source": [
    "Ejercicio 3:"
   ]
  },
  {
   "cell_type": "markdown",
   "metadata": {},
   "source": [
    "c)"
   ]
  },
  {
   "cell_type": "code",
   "execution_count": 6,
   "metadata": {
    "scrolled": true
   },
   "outputs": [
    {
     "data": {
      "text/plain": [
       " message: Optimization terminated successfully\n",
       " success: True\n",
       "  status: 0\n",
       "     fun: -4.000000340488772\n",
       "       x: [ 2.000e+00  2.000e+00  1.000e+00]\n",
       "     nit: 38\n",
       "     jac: [-2.000e+00 -2.000e+00 -4.000e+00]\n",
       "    nfev: 190\n",
       "    njev: 38"
      ]
     },
     "execution_count": 6,
     "metadata": {},
     "output_type": "execute_result"
    }
   ],
   "source": [
    "def volumen(coor):\n",
    "    return -coor[0]*coor[1]*coor[2]\n",
    "\n",
    "restriccion_sup={'type':'eq','fun':lambda coor:coor[0]*coor[1]+(2*coor[1]*coor[2])+(2*coor[0]*coor[2])-12}\n",
    "x0=[1,1,1]\n",
    "\n",
    "maximo=spo.minimize(volumen, x0,constraints=(restriccion_sup))\n",
    "maximo"
   ]
  },
  {
   "cell_type": "markdown",
   "metadata": {},
   "source": [
    "d)"
   ]
  },
  {
   "cell_type": "markdown",
   "metadata": {},
   "source": [
    "El volúmen máximo que puede almacenar un usuario en este producto es $4$ $cm^3$ "
   ]
  },
  {
   "cell_type": "markdown",
   "metadata": {},
   "source": [
    "# Generales de probabilidad:"
   ]
  },
  {
   "cell_type": "markdown",
   "metadata": {},
   "source": [
    "Ejercicio 4"
   ]
  },
  {
   "cell_type": "code",
   "execution_count": 32,
   "metadata": {
    "scrolled": true
   },
   "outputs": [
    {
     "data": {
      "image/png": "[encoded data removed]",
      "text/plain": [
       "<Figure size 396x396 with 1 Axes>"
      ]
     },
     "metadata": {
      "needs_background": "light"
     },
     "output_type": "display_data"
    }
   ],
   "source": [
    "def probabilidad_cumpleaños(n):\n",
    "    dias=365\n",
    "    prob=1\n",
    "    dia=365\n",
    "    for i in range(n):\n",
    "        prob*=dia/365\n",
    "        dia-=1\n",
    "    return prob\n",
    "\n",
    "p=[]\n",
    "n=range(81)\n",
    "for i in range(81):\n",
    "    prob=probabilidad_cumpleaños(i)\n",
    "    p.append(prob)\n",
    "\n",
    "\n",
    "plt.figure(figsize=(5.5,5.5))\n",
    "plt.plot(n,p)\n",
    "plt.scatter(n,p)\n",
    "plt.xlabel(\"Personas\")\n",
    "plt.ylabel(\"P_n\")\n",
    "plt.grid(True)"
   ]
  },
  {
   "cell_type": "markdown",
   "metadata": {},
   "source": [
    "Ejercicio 8 :"
   ]
  },
  {
   "cell_type": "code",
   "execution_count": 12,
   "metadata": {},
   "outputs": [
    {
     "data": {
      "text/plain": [
       "0.373"
      ]
     },
     "execution_count": 12,
     "metadata": {},
     "output_type": "execute_result"
    }
   ],
   "source": [
    "def probabilidad(N):\n",
    "   f =0\n",
    "   for i in range(N):\n",
    "    if np.sum(np.random.choice([1,-1], size =4)) ==0:\n",
    "        f+=1\n",
    "   return f/int(N)\n",
    "\n",
    "round(probabilidad(10**5),3)\n"
   ]
  },
  {
   "cell_type": "markdown",
   "metadata": {},
   "source": [
    "## Distribuciones continuas de probabilidad:"
   ]
  },
  {
   "cell_type": "markdown",
   "metadata": {},
   "source": [
    "Ejercicio 1"
   ]
  },
  {
   "cell_type": "code",
   "execution_count": 15,
   "metadata": {},
   "outputs": [
    {
     "data": {
      "text/latex": [
       "$\\displaystyle \\begin{cases} 0.666666666666667 x + 1.33333333333333 y & \\text{for}\\: x \\geq 0 \\wedge y \\geq 0 \\wedge x \\leq 1 \\wedge y \\leq 1 \\\\0 & \\text{otherwise} \\end{cases}$"
      ],
      "text/plain": [
       "Piecewise((0.666666666666667*x + 1.33333333333333*y, (x >= 0) & (y >= 0) & (x <= 1) & (y <= 1)), (0, True))"
      ]
     },
     "execution_count": 15,
     "metadata": {},
     "output_type": "execute_result"
    }
   ],
   "source": [
    "x=sym.Symbol('x', real=True)\n",
    "y=sym.Symbol('y', real=True)\n",
    "f=sym.Piecewise((((2/3)*(x+2*y)),((0<=x)&(x<=1)&(0<=y)&(y<=1))),(0,True))\n",
    "f"
   ]
  },
  {
   "cell_type": "markdown",
   "metadata": {},
   "source": [
    "a)"
   ]
  },
  {
   "cell_type": "markdown",
   "metadata": {},
   "source": [
    "f es positivo en el intervalo [0,1]x[0,1]"
   ]
  },
  {
   "cell_type": "code",
   "execution_count": 18,
   "metadata": {
    "scrolled": true
   },
   "outputs": [
    {
     "data": {
      "text/latex": [
       "$\\displaystyle 1.0$"
      ],
      "text/plain": [
       "1.00000000000000"
      ]
     },
     "execution_count": 18,
     "metadata": {},
     "output_type": "execute_result"
    }
   ],
   "source": [
    "sym.integrate(f,(x,-sym.oo,sym.oo),(y,-sym.oo,sym.oo)) "
   ]
  },
  {
   "cell_type": "markdown",
   "metadata": {},
   "source": [
    "b)"
   ]
  },
  {
   "cell_type": "code",
   "execution_count": 21,
   "metadata": {
    "scrolled": true
   },
   "outputs": [
    {
     "data": {
      "text/plain": [
       "(Piecewise((0.666666666666667*x + 0.666666666666667, (x >= 0) & (x <= 1)), (0, True)),\n",
       " Piecewise((1.33333333333333*y + 0.333333333333333, (y >= 0) & (y <= 1)), (0, True)))"
      ]
     },
     "execution_count": 21,
     "metadata": {},
     "output_type": "execute_result"
    }
   ],
   "source": [
    "gx=sym.integrate(f,(y,-sym.oo,sym.oo))\n",
    "hy=sym.integrate(f,(x,-sym.oo,sym.oo))\n",
    "gx,hy"
   ]
  },
  {
   "cell_type": "markdown",
   "metadata": {},
   "source": [
    "c)"
   ]
  },
  {
   "cell_type": "code",
   "execution_count": 23,
   "metadata": {},
   "outputs": [
    {
     "data": {
      "text/latex": [
       "$\\displaystyle 0.555555555555556$"
      ],
      "text/plain": [
       "0.555555555555556"
      ]
     },
     "execution_count": 23,
     "metadata": {},
     "output_type": "execute_result"
    }
   ],
   "source": [
    "Ex=sym.integrate(x*gx,(x,-sym.oo,sym.oo))\n",
    "Ex"
   ]
  },
  {
   "cell_type": "markdown",
   "metadata": {},
   "source": [
    "d)"
   ]
  },
  {
   "cell_type": "code",
   "execution_count": 24,
   "metadata": {},
   "outputs": [
    {
     "data": {
      "text/latex": [
       "$\\displaystyle 0.611111111111111$"
      ],
      "text/plain": [
       "0.611111111111111"
      ]
     },
     "execution_count": 24,
     "metadata": {},
     "output_type": "execute_result"
    }
   ],
   "source": [
    "Ey=sym.integrate(y*hy,(y,-sym.oo,sym.oo))\n",
    "Ey"
   ]
  },
  {
   "cell_type": "markdown",
   "metadata": {},
   "source": [
    "e)"
   ]
  },
  {
   "cell_type": "code",
   "execution_count": 26,
   "metadata": {},
   "outputs": [
    {
     "data": {
      "text/latex": [
       "$\\displaystyle -0.00617283950617281$"
      ],
      "text/plain": [
       "-0.00617283950617281"
      ]
     },
     "execution_count": 26,
     "metadata": {},
     "output_type": "execute_result"
    }
   ],
   "source": [
    "Exy=sym.integrate(x*y*f,(x,-sym.oo,sym.oo),(y,-sym.oo,sym.oo))\n",
    "covar=Exy-(Ex*Ey)\n",
    "covar"
   ]
  },
  {
   "cell_type": "markdown",
   "metadata": {},
   "source": [
    "f)"
   ]
  },
  {
   "cell_type": "code",
   "execution_count": 33,
   "metadata": {},
   "outputs": [
    {
     "data": {
      "text/latex": [
       "$\\displaystyle -0.00617283950617284$"
      ],
      "text/plain": [
       "-0.00617283950617284"
      ]
     },
     "execution_count": 33,
     "metadata": {},
     "output_type": "execute_result"
    }
   ],
   "source": [
    "f2=(x-Ex)*(y-Ey)\n",
    "covar=sym.integrate(f*f2,(x,-sym.oo,sym.oo),(y,-sym.oo,sym.oo))\n",
    "covar"
   ]
  },
  {
   "cell_type": "markdown",
   "metadata": {},
   "source": [
    "g)"
   ]
  },
  {
   "cell_type": "code",
   "execution_count": 34,
   "metadata": {},
   "outputs": [
    {
     "data": {
      "text/latex": [
       "$\\displaystyle 0.888888888888887 x y + 0.222222222222222 x + 0.888888888888887 y + 0.222222222222222$"
      ],
      "text/plain": [
       "0.888888888888887*x*y + 0.222222222222222*x + 0.888888888888887*y + 0.222222222222222"
      ]
     },
     "execution_count": 34,
     "metadata": {},
     "output_type": "execute_result"
    }
   ],
   "source": [
    "independencia=sym.expand((0.666666666666667*x+0.666666666666667)*(1.33333333333333*𝑦+0.333333333333333))\n",
    "independencia"
   ]
  },
  {
   "cell_type": "markdown",
   "metadata": {},
   "source": [
    "Los valores x e y no son independientes, ya que la multiplicación de g(x) por h(y) no es igual a f(x, y), la cual representa la función densidad conjunta. Esto contradice la teoría de la independencia, ya que f(x, y) representa la probabilidad conjunta (A ∪ B) y g(x),h(y) la probabilidad de A y probabilidad de B respectivamente."
   ]
  },
  {
   "cell_type": "markdown",
   "metadata": {},
   "source": [
    "# Mínimos cuadrados:"
   ]
  },
  {
   "cell_type": "markdown",
   "metadata": {},
   "source": [
    "Ejercicio 1b"
   ]
  },
  {
   "cell_type": "code",
   "execution_count": 40,
   "metadata": {},
   "outputs": [
    {
     "data": {
      "text/plain": [
       "2.5354683985409867"
      ]
     },
     "execution_count": 40,
     "metadata": {},
     "output_type": "execute_result"
    }
   ],
   "source": [
    "A=np.array([[2,-1],[1,2],[1,1]])\n",
    "b=np.array([2,1,4])\n",
    "h=0.01\n",
    "x=np.arange(-5,5+h,h)\n",
    "y=np.arange(-5,5+h,h)\n",
    "\n",
    "def minima_distancia(A,b):\n",
    "    distancias=np.zeros((len(x),len(x)))\n",
    "    x1=[]\n",
    "    y1=[]\n",
    "    for i in range(len(x)):\n",
    "        for j in range(len(y)):\n",
    "            x_=np.array([x[i],y[j]])\n",
    "            d=np.linalg.norm(np.dot(A,x_)-b)\n",
    "            distancias[i,j]=d\n",
    "    return distancias\n",
    "d=minima_distancia(A,b)\n",
    "minimo_punto=np.min(d) \n",
    "coord_minima=np.unravel_index(np.argmin(d),d.shape)\n",
    "xsol = np.array([x[coord_minima[0]], y[coord_minima[1]]])\n",
    "minimo_punto #Distancia miníma"
   ]
  },
  {
   "cell_type": "code",
   "execution_count": 41,
   "metadata": {},
   "outputs": [
    {
     "data": {
      "text/plain": [
       "<matplotlib.legend.Legend at 0x7fd832504910>"
      ]
     },
     "execution_count": 41,
     "metadata": {},
     "output_type": "execute_result"
    },
    {
     "data": {
      "image/png": "[encoded data removed]",
      "text/plain": [
       "<Figure size 432x360 with 1 Axes>"
      ]
     },
     "metadata": {
      "needs_background": "light"
     },
     "output_type": "display_data"
    }
   ],
   "source": [
    "X,Y=np.meshgrid(x,y)\n",
    "fig = plt.figure(figsize=(6,5))\n",
    "ax = fig.add_subplot(111, projection='3d')\n",
    "ax.plot_surface(X, Y, d, cmap='coolwarm')\n",
    "ax.scatter(X[coord_minima], Y[coord_minima], d[coord_minima], color='blue', s=100, label='Punto mínimo')\n",
    "ax.set_xlabel('x')\n",
    "ax.set_ylabel('y')\n",
    "ax.set_zlabel('p(*x)')\n",
    "ax.view_init(elev=30, azim=45)\n",
    "ax.legend()"
   ]
  },
  {
   "cell_type": "markdown",
   "metadata": {},
   "source": [
    "Ejercicio 7"
   ]
  },
  {
   "cell_type": "code",
   "execution_count": 45,
   "metadata": {
    "scrolled": true
   },
   "outputs": [
    {
     "data": {
      "text/plain": [
       "array([-2.,  3.,  4.,  0.])"
      ]
     },
     "execution_count": 45,
     "metadata": {},
     "output_type": "execute_result"
    }
   ],
   "source": [
    "A=np.array([[3,1,-1],[1,2,0],[0,1,2],[1,1,-1]])\n",
    "b=np.array([-3,-3,8,9])\n",
    "M=np.dot(A.T,A)\n",
    "Ab=np.dot(A.T,b)\n",
    "xsol=np.linalg.solve(M,Ab)#Mínimos cuadrados\n",
    "np.dot(A,np.round(xsol)) #Proy_w(b)"
   ]
  },
  {
   "cell_type": "markdown",
   "metadata": {},
   "source": [
    "# Estimación de Parametros"
   ]
  },
  {
   "cell_type": "markdown",
   "metadata": {},
   "source": [
    "Ejercicio 1"
   ]
  },
  {
   "cell_type": "code",
   "execution_count": null,
   "metadata": {},
   "outputs": [],
   "source": []
  },
  {
   "cell_type": "markdown",
   "metadata": {},
   "source": [
    "## Hidden Markov Models\n"
   ]
  },
  {
   "cell_type": "code",
   "execution_count": null,
   "metadata": {},
   "outputs": [
    {
     "data": {
      "text/plain": [
       "<itertools.permutations at 0x18cc9eb9e90>"
      ]
     },
     "execution_count": 6,
     "metadata": {},
     "output_type": "execute_result"
    }
   ],
   "source": [
    "import itertools\n",
    "perm = list(itertools.permutations([0,1]),8)"
   ]
  },
  {
   "cell_type": "code",
   "execution_count": null,
   "metadata": {},
   "outputs": [],
   "source": [
    "T = np.array([[0.8,0.2],[0.2,0.8]])\n",
    "E = np.array([[0.5,0.9],[0.5,0.1]])\n",
    "pri = np.array([0.2,0.8])\n",
    "\n",
    "def most_probable(): \n",
    "    maxi = 0\n",
    "    for i in perm:\n",
    "        \n",
    "\n",
    "        \n",
    "        \n",
    "    \n"
   ]
  }
 ],
 "metadata": {
  "kernelspec": {
   "display_name": "Python 3",
   "language": "python",
   "name": "python3"
  },
  "language_info": {
   "codemirror_mode": {
    "name": "ipython",
    "version": 3
   },
   "file_extension": ".py",
   "mimetype": "text/x-python",
   "name": "python",
   "nbconvert_exporter": "python",
   "pygments_lexer": "ipython3",
   "version": "3.11.4"
  }
 },
 "nbformat": 4,
 "nbformat_minor": 2
}
