{
 "cells": [
  {
   "cell_type": "code",
   "execution_count": 331,
   "metadata": {},
   "outputs": [],
   "source": [
    "import numpy as np\n",
    "import matplotlib.pyplot as plt\n",
    "from IPython.display import clear_output\n",
    "import time\n",
    "import copy\n",
    "from tqdm import tqdm"
   ]
  },
  {
   "cell_type": "markdown",
   "metadata": {},
   "source": [
    "# Neural stuff"
   ]
  },
  {
   "cell_type": "code",
   "execution_count": 332,
   "metadata": {},
   "outputs": [],
   "source": [
    "sigm = lambda x: 1/(1+np.exp(-x))"
   ]
  },
  {
   "cell_type": "code",
   "execution_count": 333,
   "metadata": {},
   "outputs": [],
   "source": [
    "class Layer:\n",
    "    \n",
    "    \n",
    "    def __init__(self,NC,NN,ActFun,rate=0.46): # Jugar con la tasa de mutacion\n",
    "        \n",
    "        self.NC = NC\n",
    "        self.NN = NN\n",
    "        self.ActFunc = ActFun\n",
    "        self.rate = rate\n",
    "        \n",
    "        self.W = np.random.uniform( -10.,10.,(self.NC,self.NN) )\n",
    "        self.b = np.random.uniform( -10.,10.,(1,self.NN) )\n",
    "        \n",
    "    def Activation(self,x):\n",
    "        z = np.dot(x,self.W) + self.b\n",
    "        return self.ActFunc( z )[0]\n",
    "    \n",
    "    def GetWeight(self): \n",
    "        return self.W\n",
    "    def GetBase(self):\n",
    "        return self.b\n",
    "    def Mutate(self):\n",
    "    \n",
    "        #self.W += np.random.normal( loc=0., scale=self.rate, size=(self.NC,self.NN))\n",
    "        #self.b += np.random.normal( loc=0., scale=self.rate, size=(1,self.NN))\n",
    "        \n",
    "        self.W += np.random.uniform( -self.rate, self.rate, size=(self.NC,self.NN))\n",
    "        self.b += np.random.uniform( -self.rate, self.rate, size=(1,self.NN))"
   ]
  },
  {
   "cell_type": "code",
   "execution_count": 334,
   "metadata": {},
   "outputs": [],
   "source": [
    "def GetBrain():\n",
    "    l0 = Layer(1,5,sigm)\n",
    "    l1 = Layer(5,1,sigm)\n",
    "    #l2 = Layer(2,1,sigm)\n",
    "    Brain = [l0,l1]\n",
    "    return Brain    "
   ]
  },
  {
   "cell_type": "code",
   "execution_count": 335,
   "metadata": {
    "scrolled": false
   },
   "outputs": [
    {
     "data": {
      "text/plain": [
       "array([0.60745159])"
      ]
     },
     "execution_count": 335,
     "metadata": {},
     "output_type": "execute_result"
    }
   ],
   "source": [
    "brain=GetBrain()\n",
    "brain[1].Activation(0.1)"
   ]
  },
  {
   "cell_type": "markdown",
   "metadata": {},
   "source": [
    "# Estructura del individuo"
   ]
  },
  {
   "cell_type": "code",
   "execution_count": 336,
   "metadata": {},
   "outputs": [],
   "source": [
    "class Robot:\n",
    "    \n",
    "    def __init__(self, dt, Layers, Id=0):\n",
    "        \n",
    "        self.Id = Id\n",
    "        self.dt = dt\n",
    "        \n",
    "        \n",
    "        self.r = np.random.uniform([0.,0.])\n",
    "        theta = 0.\n",
    "        self.v = np.array([1.*np.cos(theta),1.*np.sin(theta)])\n",
    "\n",
    "        \n",
    "        # Capacidad o aptitud del individuo\n",
    "        self.Fitness = np.inf\n",
    "        self.Steps = 0\n",
    "        self.posicion=self.r[0]\n",
    "\n",
    "        # Brain\n",
    "        self.Layers = Layers\n",
    "        \n",
    "    def GetR(self):\n",
    "        return self.r\n",
    "    \n",
    "    def Evolution(self):\n",
    "        self.r += self.v*self.dt # Euler integration (Metodos 2)\n",
    "\n",
    "        # Cada generación regreamos el robot al origin\n",
    "        # Y volvemos a estimar su fitness\n",
    "    def Reset(self):\n",
    "        self.Steps = 0.\n",
    "        self.r = np.array([0.,0.])\n",
    "        self.Fitness = np.inf    \n",
    "        \n",
    "    # Aca debes definir que es mejorar en tu proceso evolutivo\n",
    "    def SetFitness(self):\n",
    "        if self.Steps==0:\n",
    "            self.Fitness=np.inf\n",
    "        else:\n",
    "            self.Fitness=1/self.Steps\n",
    "        #if self.r[0]*self.v[0]>0:\n",
    "            #dx=self.dt*np.linalg.norm(self.v)\n",
    "            #delta=np.abs(self.r[0]-1)\n",
    "        #else:\n",
    "            #dx=self.dt*np.linalg.norm(self.v)\n",
    "            #delta=np.abs(self.r[0]-1)+np.abs(self.r[0])\n",
    "        #self.Fitness = (delta/dx)\n",
    "\n",
    "    # Brain stuff\n",
    "    def GetFitness(self):\n",
    "        return self.Fitness\n",
    "    def BrainActivation(self,x,threshold=0.7): \n",
    "        # El umbral (threshold) cerebral es a tu gusto!\n",
    "        # cercano a 1 es exigente\n",
    "        # cercano a 0 es sindrome de down\n",
    "        # Forward pass - la infomación fluye por el modelo hacia adelante\n",
    "        for i in range(len(self.Layers)): \n",
    "            if i == 0:\n",
    "                output = self.Layers[i].Activation(x)\n",
    "            else:\n",
    "                output = self.Layers[i].Activation(output)\n",
    "        \n",
    "        self.Activation = np.round(output,4)\n",
    "    \n",
    "        # Cambiamos el vector velocidad\n",
    "        if self.Activation[0] > threshold:\n",
    "            self.v = -self.v\n",
    "            self.Steps-=(0.5*self.Steps)        \n",
    "            # Deberias penalizar de alguna forma, dado que mucha activación es desgastante!\n",
    "            # Para cualquier cerebro\n",
    "    \n",
    "        return self.Activation\n",
    "    \n",
    "    # Aca mutamos (cambiar de parametros) para poder \"aprender\"\n",
    "    def Mutate(self):\n",
    "        for i in range(len(self.Layers)):\n",
    "            self.Layers[i].Mutate()\n",
    "    # Devolvemos la red neuronal ya entrenada\n",
    "    def GetBrain(self):\n",
    "        return self.Layers"
   ]
  },
  {
   "cell_type": "code",
   "execution_count": 337,
   "metadata": {},
   "outputs": [],
   "source": [
    "def GetRobots(N):\n",
    "    \n",
    "    Robots = []\n",
    "    \n",
    "    for i in range(N):\n",
    "        \n",
    "        Brain = GetBrain()\n",
    "        r = Robot(dt,Brain,Id=i)\n",
    "        Robots.append(r)\n",
    "        \n",
    "    return Robots"
   ]
  },
  {
   "cell_type": "code",
   "execution_count": 338,
   "metadata": {},
   "outputs": [],
   "source": [
    "dt = 0.1\n",
    "t = np.arange(0.,5.,dt)\n",
    "Robots = GetRobots(10)"
   ]
  },
  {
   "cell_type": "code",
   "execution_count": 339,
   "metadata": {},
   "outputs": [],
   "source": [
    "def GetPlot():\n",
    "    \n",
    "    fig = plt.figure(figsize=(8,4))\n",
    "    ax = fig.add_subplot(1,2,1)\n",
    "    ax1 = fig.add_subplot(1,2,2)\n",
    "    \n",
    "    ax.set_xlim(-1.,1.)\n",
    "    ax.set_ylim(-1.,1.)\n",
    " \n",
    "    return ax,ax1"
   ]
  },
  {
   "cell_type": "markdown",
   "metadata": {},
   "source": [
    "# Time evolution"
   ]
  },
  {
   "cell_type": "code",
   "execution_count": 340,
   "metadata": {},
   "outputs": [],
   "source": [
    "def TimeEvolution(Robots,e,Plot=True):\n",
    "  \n",
    "    for it in range(t.shape[0]):\n",
    "        \n",
    "        if Plot:\n",
    "        \n",
    "            clear_output(wait=True)\n",
    "        \n",
    "            ax,ax1 = GetPlot()\n",
    "            ax1.set_ylim(0.,1.)\n",
    "        \n",
    "            ax.set_title('t = {:.3f}'.format(t[it]))\n",
    "        \n",
    "        Activation = np.zeros(len(Robots))\n",
    "        \n",
    "        for i,p in enumerate(Robots):\n",
    "            p.Evolution()\n",
    "         \n",
    "            # Activacion cerebral\n",
    "            Act = p.BrainActivation(p.GetR()[0])\n",
    "            Activation[i] = Act\n",
    "            if p.GetR()[0] >=-1.0 and p.GetR()[0]<=1.0:\n",
    "                p.Steps+=1\n",
    " \n",
    "            # Region donde aumentamos los pasos para el fitness\n",
    "            \n",
    "                \n",
    "            if Plot and i < 5: # Solo pintamos los primeros 5, por tiempo de computo\n",
    "                ax.scatter(p.r[0],p.r[1],label='Id: {}, Steps: {:.0f}'.format(p.Id,p.Steps))\n",
    "                ax.quiver(p.r[0],p.r[1],p.v[0],p.v[1])\n",
    "                \n",
    "        # Pintamos la activaciones de los primeros 5\n",
    "        \n",
    "        if Plot:\n",
    "            ax1.plot(np.arange(0,len(Robots[:5]),1),Activation[:5],marker='o',color='b',label='Activation')\n",
    "            ax1.axhline(y=0.7,color='r')\n",
    "        \n",
    "        if Plot:\n",
    "        \n",
    "            ax.legend(loc=0)  \n",
    "            ax1.legend(loc=0)\n",
    "            plt.show()\n",
    "            time.sleep(0.001)"
   ]
  },
  {
   "cell_type": "markdown",
   "metadata": {},
   "source": [
    "# Algoritmo evolutivo"
   ]
  },
  {
   "cell_type": "code",
   "execution_count": 341,
   "metadata": {},
   "outputs": [],
   "source": [
    "# Definimos la rutina de entrenamiento\n",
    "def Genetic(Robots, epochs = 200, Plot = True, Plottime=False):\n",
    "    \n",
    "    # Porcentaje de robots elegidos en cada epoch\n",
    "    N = int(0.7*len(Robots))\n",
    "    \n",
    "    FitVector = np.array([])\n",
    "    x = np.linspace(-1,1,20)\n",
    "    Act = np.zeros_like(x)\n",
    "    \n",
    "    for e in range(int(epochs)):\n",
    "        \n",
    "        # Reiniciamos y mutamos los pesos\n",
    "        \n",
    "        for p in Robots:\n",
    "            p.Reset() \n",
    "            p.Mutate()\n",
    "            \n",
    "        # Evolucionamos\n",
    "        TimeEvolution(Robots,e,Plottime) # Apagar dibujar la evolución para entrenar\n",
    "        list_bot =[]\n",
    "        \n",
    "        # Actualizamos fitness de cada robot\n",
    "        #list_bot =[]\n",
    "        \n",
    "        # Actualizamos fitness de cada robot\n",
    "        for p in (Robots):\n",
    "            p.SetFitness()\n",
    "            #list_bot.append(fitness)\n",
    "    \n",
    "            \n",
    "        #ind_max=np.argmax(list_bot)\n",
    "        #best_fitness = np.max(list_bot)\n",
    "        #best_bot =Robots[ind_max]\n",
    "        scores = [(p.Fitness,p) for p in Robots]\n",
    "        scores.sort(key = lambda x: x[0], reverse = False)\n",
    "        best_fitness = scores[0][0]\n",
    "        best_bot = scores[0][1]\n",
    "        \n",
    "        Temp = [r[1] for i,r in enumerate(scores) if i < N]\n",
    "        \n",
    "        # Copiado profundo\n",
    "        for i,r in enumerate(Robots):\n",
    "            j = i%N\n",
    "            Robots[i] = copy.deepcopy(Temp[j])\n",
    "        \n",
    "        # Aca va toda la rutina de ordenar los bots del más apto al menos apto\n",
    "        \n",
    "        \n",
    "        # Guardamos el mejor fitness y el mejor robot\n",
    "        \n",
    "        FitVector = np.append(FitVector,best_fitness)\n",
    "        \n",
    "        for i in range(len(x)):\n",
    "            Act[i] = best_bot.BrainActivation(x[i])\n",
    "        \n",
    "        clear_output(wait=True)\n",
    "        \n",
    "        print('Epoch:', e)\n",
    "                \n",
    "        # Last fitness\n",
    "        print('Last Fitness:', FitVector[-1])\n",
    "        \n",
    "        \n",
    "        if Plot:\n",
    "            \n",
    "            ax,ax1 = GetPlot()\n",
    "            ax.plot(x,Act,color='k')\n",
    "            ax.set_ylim(0.,1)\n",
    "            ax.axhline(y=0.75,ls='--',color='r',label='Threshold')\n",
    "            \n",
    "            ax1.set_title('Fitness')\n",
    "            ax1.plot(FitVector)\n",
    "        \n",
    "            ax.legend(loc=0)\n",
    "            \n",
    "            plt.show()\n",
    "            \n",
    "            time.sleep(0.01)\n",
    "        \n",
    "        \n",
    "    \n",
    "    return best_bot, FitVector,scores"
   ]
  },
  {
   "cell_type": "code",
   "execution_count": 342,
   "metadata": {
    "scrolled": false
   },
   "outputs": [
    {
     "name": "stdout",
     "output_type": "stream",
     "text": [
      "Epoch: 399\n",
      "Last Fitness: 0.03125\n"
     ]
    },
    {
     "data": {
      "image/png": "[encoded data removed]",
      "text/plain": [
       "<Figure size 800x400 with 2 Axes>"
      ]
     },
     "metadata": {},
     "output_type": "display_data"
    }
   ],
   "source": [
    "Robots = GetRobots(200)\n",
    "Best, FitVector,scores = Genetic(Robots, epochs = 400,Plot=True,Plottime=False) # Apagar Plottime para el entrenamiento"
   ]
  },
  {
   "cell_type": "code",
   "execution_count": 343,
   "metadata": {},
   "outputs": [
    {
     "name": "stdout",
     "output_type": "stream",
     "text": [
      "Para la capa oculta, el cerebro tiene las siguientes caracterisitcas: \n",
      "W_0i = [[ 25.13940068  -3.91160596 -18.35270033   6.39411151   0.53226362]] \n",
      "b_0i = [[-21.1872111   -9.2384998  -19.61281634  -8.21871247 -15.09502585]] \n",
      "\n",
      "Para la capa de salida, el cerebro tiene las siguientes caracterisitcas: \n",
      "      W_10           b_10 = [[-3.86445488]]\n",
      " [[12.01169668]\n",
      " [-2.62151415]\n",
      " [12.61025612]\n",
      " [ 5.28442978]\n",
      " [ 6.47540985]]\n"
     ]
    }
   ],
   "source": [
    "def DisplayBrain(Robot):\n",
    "    l0,l1 = Robot.GetBrain()\n",
    "    print(\"Para la capa oculta, el cerebro tiene las siguientes caracterisitcas: \")\n",
    "    print(\"W_0i =\", l0.GetWeight(), \"\\nb_0i =\", l0.GetBase(),\"\\n\")\n",
    "    print(\"Para la capa de salida, el cerebro tiene las siguientes caracterisitcas: \")\n",
    "    print(\"      W_10           b_10 = \" + str(l1.GetBase()) +  \"\\n\", l1.GetWeight())\n",
    "    return None\n",
    "\n",
    "DisplayBrain(Best)"
   ]
  },
  {
   "cell_type": "code",
   "execution_count": 344,
   "metadata": {},
   "outputs": [
    {
     "data": {
      "image/png": "[encoded data removed]",
      "text/plain": [
       "<Figure size 800x400 with 1 Axes>"
      ]
     },
     "metadata": {},
     "output_type": "display_data"
    }
   ],
   "source": [
    "def ShowBestBot(p):\n",
    "    Position = []\n",
    "    t = np.arange(0.,20.,0.1)\n",
    "    for it in range(t.shape[0]):\n",
    "        fig = plt.figure(figsize=(8,4))\n",
    "        ax = fig.add_subplot(1,2,1)\n",
    "        ax.set_xlim(-1.,1.)\n",
    "        ax.set_ylim(-1.,1.) \n",
    "        clear_output(wait=True)        \n",
    "        ax.set_title('t = {:.3f}'.format(t[it]))\n",
    "        p.Evolution()\n",
    "        p.BrainActivation(p.GetR()[0])\n",
    "        if p.GetR()[0] >=-1. and p.GetR()[0]<=1.:\n",
    "            p.Steps+=1\n",
    "        ax.scatter(p.r[0],p.r[1],label='Id: {}, Steps: {:.0f}'.format(p.Id,p.Steps))\n",
    "        ax.quiver(p.r[0],p.r[1],p.v[0],p.v[1])\n",
    "        ax.legend(loc= 0)\n",
    "        plt.show()\n",
    "        time.sleep(0.001)\n",
    "        Position.append(p.r[0])\n",
    "    return Position\n",
    "Position = ShowBestBot(Best)"
   ]
  },
  {
   "cell_type": "code",
   "execution_count": 345,
   "metadata": {},
   "outputs": [
    {
     "name": "stdout",
     "output_type": "stream",
     "text": [
      "La posición máxima del robot fue de: 0.8999999999999999\n",
      "La posición mínima del robot fue de: -1.0999999999999999\n"
     ]
    }
   ],
   "source": [
    "print(\"La posición máxima del robot fue de: \" + str(max(Position)))\n",
    "print(\"La posición mínima del robot fue de: \" + str(min(Position)))"
   ]
  }
 ],
 "metadata": {
  "kernelspec": {
   "display_name": "Python 3",
   "language": "python",
   "name": "python3"
  },
  "language_info": {
   "codemirror_mode": {
    "name": "ipython",
    "version": 3
   },
   "file_extension": ".py",
   "mimetype": "text/x-python",
   "name": "python",
   "nbconvert_exporter": "python",
   "pygments_lexer": "ipython3",
   "version": "3.11.4"
  }
 },
 "nbformat": 4,
 "nbformat_minor": 5
}
